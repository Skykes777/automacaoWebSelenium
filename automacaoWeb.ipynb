{
 "cells": [
  {
   "cell_type": "markdown",
   "metadata": {},
   "source": [
    "# Automação Web e Busca de Informações com Python"
   ]
  },
  {
   "cell_type": "markdown",
   "metadata": {},
   "source": [
    "**Buscando os dados usando selenium**"
   ]
  },
  {
   "cell_type": "code",
   "execution_count": 21,
   "metadata": {},
   "outputs": [],
   "source": [
    "from selenium import webdriver\n",
    "from webdriver_manager.chrome import ChromeDriverManager\n",
    "from selenium.webdriver.chrome.service import Service\n",
    "from selenium.webdriver.common.keys import Keys\n",
    "import pandas as pd\n",
    "serviço = Service(ChromeDriverManager().install())\n",
    "\n",
    "navegador = webdriver.Chrome(service=serviço)\n",
    "\n",
    "# Pegar a cotação do dólar\n",
    "navegador.get('https://google.com.br/')\n",
    "navegador.find_element('xpath', '/html/body/div[1]/div[3]/form/div[1]/div[1]/div[1]/div/div[2]/input').send_keys('cotação dólar', Keys.ENTER)\n",
    "valorDolar = navegador.find_element('xpath', '//*[@id=\"knowledge-currency__updatable-data-column\"]/div[1]/div[2]/span[1]').get_attribute('data-value')\n",
    "\n",
    "# Pegar a cotação do euro\n",
    "navegador.get('https://google.com.br/')\n",
    "navegador.find_element('xpath', '/html/body/div[1]/div[3]/form/div[1]/div[1]/div[1]/div/div[2]/input').send_keys('cotação euro', Keys.ENTER)\n",
    "valorEuro = navegador.find_element('xpath', '//*[@id=\"knowledge-currency__updatable-data-column\"]/div[1]/div[2]/span[1]').get_attribute('data-value')\n",
    "\n",
    "# Pegar a cotação do ouro\n",
    "navegador.get('https://www.melhorcambio.com/ouro-hoje')\n",
    "valorOuro = navegador.find_element('xpath', '//*[@id=\"comercial\"]').get_attribute('value')\n",
    "valorOuro = valorOuro.replace(',', '.')\n",
    "\n",
    "navegador.quit()"
   ]
  },
  {
   "cell_type": "markdown",
   "metadata": {},
   "source": [
    "**Atualizando a base de dados**"
   ]
  },
  {
   "cell_type": "code",
   "execution_count": 22,
   "metadata": {},
   "outputs": [
    {
     "data": {
      "text/html": [
       "<div>\n",
       "<style scoped>\n",
       "    .dataframe tbody tr th:only-of-type {\n",
       "        vertical-align: middle;\n",
       "    }\n",
       "\n",
       "    .dataframe tbody tr th {\n",
       "        vertical-align: top;\n",
       "    }\n",
       "\n",
       "    .dataframe thead th {\n",
       "        text-align: right;\n",
       "    }\n",
       "</style>\n",
       "<table border=\"1\" class=\"dataframe\">\n",
       "  <thead>\n",
       "    <tr style=\"text-align: right;\">\n",
       "      <th></th>\n",
       "      <th>Produtos</th>\n",
       "      <th>Preço Original</th>\n",
       "      <th>Moeda</th>\n",
       "      <th>Cotação</th>\n",
       "      <th>Preço de Compra</th>\n",
       "      <th>Margem</th>\n",
       "      <th>Preço de Venda</th>\n",
       "    </tr>\n",
       "  </thead>\n",
       "  <tbody>\n",
       "    <tr>\n",
       "      <th>0</th>\n",
       "      <td>Câmera Canon</td>\n",
       "      <td>999.99</td>\n",
       "      <td>Dólar</td>\n",
       "      <td>5.0885</td>\n",
       "      <td>5088.449115</td>\n",
       "      <td>1.40</td>\n",
       "      <td>7123.828761</td>\n",
       "    </tr>\n",
       "    <tr>\n",
       "      <th>1</th>\n",
       "      <td>Carro Renault</td>\n",
       "      <td>4500.00</td>\n",
       "      <td>Euro</td>\n",
       "      <td>5.2215</td>\n",
       "      <td>23496.750000</td>\n",
       "      <td>2.00</td>\n",
       "      <td>46993.500000</td>\n",
       "    </tr>\n",
       "    <tr>\n",
       "      <th>2</th>\n",
       "      <td>Notebook Dell</td>\n",
       "      <td>899.99</td>\n",
       "      <td>Dólar</td>\n",
       "      <td>5.0885</td>\n",
       "      <td>4579.599115</td>\n",
       "      <td>1.70</td>\n",
       "      <td>7785.318495</td>\n",
       "    </tr>\n",
       "    <tr>\n",
       "      <th>3</th>\n",
       "      <td>IPhone</td>\n",
       "      <td>799.00</td>\n",
       "      <td>Dólar</td>\n",
       "      <td>5.0885</td>\n",
       "      <td>4065.711500</td>\n",
       "      <td>1.70</td>\n",
       "      <td>6911.709550</td>\n",
       "    </tr>\n",
       "    <tr>\n",
       "      <th>4</th>\n",
       "      <td>Carro Fiat</td>\n",
       "      <td>3000.00</td>\n",
       "      <td>Euro</td>\n",
       "      <td>5.2215</td>\n",
       "      <td>15664.500000</td>\n",
       "      <td>1.90</td>\n",
       "      <td>29762.550000</td>\n",
       "    </tr>\n",
       "    <tr>\n",
       "      <th>5</th>\n",
       "      <td>Celular Xiaomi</td>\n",
       "      <td>480.48</td>\n",
       "      <td>Dólar</td>\n",
       "      <td>5.0885</td>\n",
       "      <td>2444.922480</td>\n",
       "      <td>2.00</td>\n",
       "      <td>4889.844960</td>\n",
       "    </tr>\n",
       "    <tr>\n",
       "      <th>6</th>\n",
       "      <td>Joia 20g</td>\n",
       "      <td>20.00</td>\n",
       "      <td>Ouro</td>\n",
       "      <td>296.2100</td>\n",
       "      <td>5924.200000</td>\n",
       "      <td>1.15</td>\n",
       "      <td>6812.830000</td>\n",
       "    </tr>\n",
       "  </tbody>\n",
       "</table>\n",
       "</div>"
      ],
      "text/plain": [
       "         Produtos  Preço Original  Moeda   Cotação  Preço de Compra  Margem  \\\n",
       "0    Câmera Canon          999.99  Dólar    5.0885      5088.449115    1.40   \n",
       "1   Carro Renault         4500.00   Euro    5.2215     23496.750000    2.00   \n",
       "2   Notebook Dell          899.99  Dólar    5.0885      4579.599115    1.70   \n",
       "3          IPhone          799.00  Dólar    5.0885      4065.711500    1.70   \n",
       "4      Carro Fiat         3000.00   Euro    5.2215     15664.500000    1.90   \n",
       "5  Celular Xiaomi          480.48  Dólar    5.0885      2444.922480    2.00   \n",
       "6        Joia 20g           20.00   Ouro  296.2100      5924.200000    1.15   \n",
       "\n",
       "   Preço de Venda  \n",
       "0     7123.828761  \n",
       "1    46993.500000  \n",
       "2     7785.318495  \n",
       "3     6911.709550  \n",
       "4    29762.550000  \n",
       "5     4889.844960  \n",
       "6     6812.830000  "
      ]
     },
     "execution_count": 22,
     "metadata": {},
     "output_type": "execute_result"
    }
   ],
   "source": [
    "tabela = pd.read_excel('Produtos.xlsx')\n",
    "tabela.loc[tabela['Moeda']=='Dólar', 'Cotação'] = float(valorDolar)\n",
    "tabela.loc[tabela['Moeda']=='Euro', 'Cotação'] = float(valorEuro)\n",
    "tabela.loc[tabela['Moeda']=='Ouro', 'Cotação'] = float(valorOuro)\n",
    "\n",
    "# Atualizar o preço de compra\n",
    "tabela['Preço de Compra'] = tabela['Preço Original'] * tabela['Cotação']\n",
    "tabela['Preço de Venda'] = tabela['Preço de Compra'] * tabela['Margem'] \n",
    "tabela['Preço de Venda'] = tabela['Preço de Venda'].replace(',', '.')\n",
    "tabela"
   ]
  },
  {
   "cell_type": "markdown",
   "metadata": {},
   "source": [
    "**Gerar a tabela com os dados atualizados**"
   ]
  },
  {
   "cell_type": "code",
   "execution_count": 23,
   "metadata": {},
   "outputs": [],
   "source": [
    "tabela.to_excel('Produtos Novos.xlsx', index=False)"
   ]
  }
 ],
 "metadata": {
  "kernelspec": {
   "display_name": "Python 3.10.5 64-bit",
   "language": "python",
   "name": "python3"
  },
  "language_info": {
   "codemirror_mode": {
    "name": "ipython",
    "version": 3
   },
   "file_extension": ".py",
   "mimetype": "text/x-python",
   "name": "python",
   "nbconvert_exporter": "python",
   "pygments_lexer": "ipython3",
   "version": "3.10.5"
  },
  "orig_nbformat": 4,
  "vscode": {
   "interpreter": {
    "hash": "d2152fd7f0bbc62aa1baff8c990435d1e2c7175d001561303988032604c11a48"
   }
  }
 },
 "nbformat": 4,
 "nbformat_minor": 2
}
